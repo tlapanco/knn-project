{
  "cells": [
    {
      "cell_type": "markdown",
      "metadata": {
        "id": "view-in-github",
        "colab_type": "text"
      },
      "source": [
        "<a href=\"https://colab.research.google.com/github/tlapanco/knn-project/blob/main/Project_KNN.ipynb\" target=\"_parent\"><img src=\"https://colab.research.google.com/assets/colab-badge.svg\" alt=\"Open In Colab\"/></a>"
      ]
    },
    {
      "cell_type": "markdown",
      "id": "dd97bccd",
      "metadata": {
        "id": "dd97bccd"
      },
      "source": [
        " # INTELLIGENT SYSTEMS 🤖\n",
        "\n",
        "![scikit-learn](https://img.shields.io/badge/scikit--learn-%23F7931E.svg?style=for-the-badge&logo=scikit-learn&logoColor=white)\n",
        "![Pandas](https://img.shields.io/badge/pandas-%23150458.svg?style=for-the-badge&logo=pandas&logoColor=white)\n",
        "![Matplotlib](https://img.shields.io/badge/Matplotlib-%23ffffff.svg?style=for-the-badge&logo=Matplotlib&logoColor=black)\n",
        "![Python](https://img.shields.io/badge/python-3670A0?style=for-the-badge&logo=python&logoColor=ffdd54)\n",
        "\n",
        "Example of using Knn algorithm and SMOTE technique"
      ]
    },
    {
      "cell_type": "markdown",
      "id": "68ee74a0",
      "metadata": {
        "id": "68ee74a0"
      },
      "source": [
        "## Unbalanced classes"
      ]
    },
    {
      "cell_type": "code",
      "execution_count": null,
      "id": "3aa23322",
      "metadata": {
        "id": "3aa23322"
      },
      "outputs": [],
      "source": [
        "import pandas as pd\n",
        "import matplotlib as mplot\n",
        "import seaborn as sns"
      ]
    },
    {
      "cell_type": "markdown",
      "id": "5584bcb0",
      "metadata": {
        "id": "5584bcb0"
      },
      "source": [
        "Reading file: **Prostate_Cancer.csv**, which is stored in a variable as a df"
      ]
    },
    {
      "cell_type": "code",
      "execution_count": null,
      "id": "8e9b15a9",
      "metadata": {
        "id": "8e9b15a9"
      },
      "outputs": [],
      "source": [
        "df = pd.read_csv('Prostate_Cancer.csv')"
      ]
    },
    {
      "cell_type": "markdown",
      "id": "8ad3c0f2",
      "metadata": {
        "id": "8ad3c0f2"
      },
      "source": [
        "Original graphic visualization of our  **dataset**, classes: **M (malignant)**,**B(benign)**"
      ]
    },
    {
      "cell_type": "code",
      "execution_count": null,
      "id": "73cf7ba4",
      "metadata": {
        "scrolled": true,
        "id": "73cf7ba4",
        "outputId": "67689f14-f58e-4afd-c389-2d93f62db02b"
      },
      "outputs": [
        {
          "data": {
            "text/plain": [
              "<seaborn.axisgrid.FacetGrid at 0x12b87bb0>"
            ]
          },
          "execution_count": 3,
          "metadata": {},
          "output_type": "execute_result"
        },
        {
          "data": {
            "image/png": "[encoded data removed]",
            "text/plain": [
              "<Figure size 376.875x288 with 1 Axes>"
            ]
          },
          "metadata": {
            "needs_background": "light"
          },
          "output_type": "display_data"
        }
      ],
      "source": [
        "sns.displot(data=df, x=\"diagnosis_result\", hue=\"diagnosis_result\", height=4)"
      ]
    },
    {
      "cell_type": "markdown",
      "id": "ba66f762",
      "metadata": {
        "id": "ba66f762"
      },
      "source": [
        "Importing library **Scikit-learn**:\n",
        "1. **KNeighborsClassifier**: This is a classifier that implements the KNN algorithm\n",
        "2. **precision_score**: Precision is the ratio where is the number of true positives and the number of false positives. Precision is intuitively the ability of the classifier not to label as positive a sample that is negative.Best value is 1 and the lowest 0\n",
        "3. **classification_report**: Create a text report showing the main ranking metrics.\n",
        "4. **train_test_split**: Split arrays or matrices into random training and testing subsets."
      ]
    },
    {
      "cell_type": "code",
      "execution_count": null,
      "id": "9a1b36d2",
      "metadata": {
        "id": "9a1b36d2"
      },
      "outputs": [],
      "source": [
        "from sklearn.neighbors import KNeighborsClassifier\n",
        "from sklearn.metrics import precision_score, recall_score\n",
        "from sklearn.model_selection import train_test_split"
      ]
    },
    {
      "cell_type": "markdown",
      "id": "7b125979",
      "metadata": {
        "id": "7b125979"
      },
      "source": [
        "precision and recall values having **k** with a value of: **20**"
      ]
    },
    {
      "cell_type": "code",
      "execution_count": null,
      "id": "ded482bb",
      "metadata": {
        "id": "ded482bb",
        "outputId": "a66a0125-5dfa-4703-a4d3-f207a850f4c2"
      },
      "outputs": [
        {
          "name": "stdout",
          "output_type": "stream",
          "text": [
            "Precision knn 0.75\n",
            "Recall knn  0.75\n"
          ]
        }
      ],
      "source": [
        "dataset = df.iloc[:, 2:]\n",
        "\n",
        "labels = df[\"diagnosis_result\"]\n",
        "xtrain, xtest, ytrain, ytest = train_test_split(dataset, labels, test_size\n",
        "= 0.2, random_state = 10)\n",
        "knn= KNeighborsClassifier(n_neighbors=20)\n",
        "knn.fit(xtrain, ytrain)\n",
        "predicted = knn.predict(xtest)\n",
        "print(\"Precision knn\", precision_score(ytest, predicted, average = 'micro'))\n",
        "print(\"Recall knn \", recall_score(ytest, predicted, average = 'micro'))"
      ]
    },
    {
      "cell_type": "markdown",
      "id": "7d105386",
      "metadata": {
        "id": "7d105386"
      },
      "source": [
        "precision and recall values having **k** with a value of: **10**"
      ]
    },
    {
      "cell_type": "code",
      "execution_count": null,
      "id": "5af1b0aa",
      "metadata": {
        "id": "5af1b0aa",
        "outputId": "2286162c-2386-4fb8-864f-b49e81aaf51c"
      },
      "outputs": [
        {
          "name": "stdout",
          "output_type": "stream",
          "text": [
            "Precision knn 0.75\n",
            "Recall knn  0.75\n"
          ]
        }
      ],
      "source": [
        "dataset = df.iloc[:, 2:]\n",
        "\n",
        "labels = df[\"diagnosis_result\"]\n",
        "xtrain, xtest, ytrain, ytest = train_test_split(dataset, labels, test_size\n",
        "= 0.2, random_state = 10)\n",
        "knn= KNeighborsClassifier(n_neighbors=10)\n",
        "knn.fit(xtrain, ytrain)\n",
        "predicted = knn.predict(xtest)\n",
        "print(\"Precision knn\", precision_score(ytest, predicted, average = 'micro'))\n",
        "print(\"Recall knn \", recall_score(ytest, predicted, average = 'micro'))"
      ]
    },
    {
      "cell_type": "markdown",
      "id": "f13548a0",
      "metadata": {
        "id": "f13548a0"
      },
      "source": [
        "precision and recall values having **k** with a value of: **5**"
      ]
    },
    {
      "cell_type": "code",
      "execution_count": null,
      "id": "06d35ae9",
      "metadata": {
        "id": "06d35ae9",
        "outputId": "3efc5168-2f18-4aed-9fb6-a0f14b408b58"
      },
      "outputs": [
        {
          "name": "stdout",
          "output_type": "stream",
          "text": [
            "Precision knn 0.85\n",
            "Recall knn  0.85\n"
          ]
        }
      ],
      "source": [
        "dataset = df.iloc[:, 2:]\n",
        "\n",
        "labels = df[\"diagnosis_result\"]\n",
        "xtrain, xtest, ytrain, ytest = train_test_split(dataset, labels, test_size\n",
        "= 0.2, random_state = 10)\n",
        "knn= KNeighborsClassifier(n_neighbors=5)\n",
        "knn.fit(xtrain, ytrain)\n",
        "predicted = knn.predict(xtest)\n",
        "print(\"Precision knn\", precision_score(ytest, predicted, average = 'micro'))\n",
        "print(\"Recall knn \", recall_score(ytest, predicted, average = 'micro'))"
      ]
    },
    {
      "cell_type": "markdown",
      "id": "7e495b88",
      "metadata": {
        "id": "7e495b88"
      },
      "source": [
        "Valores de precisión y cobertura, teniendo **k** un valor de: **15**"
      ]
    },
    {
      "cell_type": "code",
      "execution_count": null,
      "id": "cd6c57ad",
      "metadata": {
        "id": "cd6c57ad",
        "outputId": "c3a656f6-0a47-40c9-ff6c-447cb0efcd2b"
      },
      "outputs": [
        {
          "name": "stdout",
          "output_type": "stream",
          "text": [
            "Precision knn 0.8\n",
            "Recall knn  0.8\n"
          ]
        }
      ],
      "source": [
        "dataset = df.iloc[:, 2:]\n",
        "\n",
        "labels = df[\"diagnosis_result\"]\n",
        "xtrain, xtest, ytrain, ytest = train_test_split(dataset, labels, test_size\n",
        "= 0.2, random_state = 10)\n",
        "knn= KNeighborsClassifier(n_neighbors=15)\n",
        "knn.fit(xtrain, ytrain)\n",
        "predicted = knn.predict(xtest)\n",
        "print(\"Precision knn\", precision_score(ytest, predicted, average = 'micro'))\n",
        "print(\"Recall knn \", recall_score(ytest, predicted, average = 'micro'))"
      ]
    },
    {
      "cell_type": "markdown",
      "id": "1d15d06a",
      "metadata": {
        "id": "1d15d06a"
      },
      "source": [
        "precision and recall values having **k** with a value of: **40**"
      ]
    },
    {
      "cell_type": "code",
      "execution_count": null,
      "id": "bc420cde",
      "metadata": {
        "id": "bc420cde",
        "outputId": "3ea885d9-0330-498e-c6c3-bb6dc3c527ac"
      },
      "outputs": [
        {
          "name": "stdout",
          "output_type": "stream",
          "text": [
            "Precision knn 0.75\n",
            "Recall knn  0.75\n"
          ]
        }
      ],
      "source": [
        "dataset = df.iloc[:, 2:]\n",
        "\n",
        "labels = df[\"diagnosis_result\"]\n",
        "xtrain, xtest, ytrain, ytest = train_test_split(dataset, labels, test_size\n",
        "= 0.2, random_state = 10)\n",
        "knn= KNeighborsClassifier(n_neighbors=40)\n",
        "knn.fit(xtrain, ytrain)\n",
        "predicted = knn.predict(xtest)\n",
        "print(\"Precision knn\", precision_score(ytest, predicted, average = 'micro'))\n",
        "print(\"Recall knn \", recall_score(ytest, predicted, average = 'micro'))"
      ]
    },
    {
      "cell_type": "markdown",
      "id": "8f3f7b26",
      "metadata": {
        "id": "8f3f7b26"
      },
      "source": [
        "## Sobremuestreo"
      ]
    },
    {
      "cell_type": "markdown",
      "id": "c809fba4",
      "metadata": {
        "id": "c809fba4"
      },
      "source": [
        "Visualización gráfica de nuestras clases balanceadas por medio de **sobremuestreo**"
      ]
    },
    {
      "cell_type": "code",
      "execution_count": null,
      "id": "bd5389f7",
      "metadata": {
        "scrolled": true,
        "id": "bd5389f7",
        "outputId": "58a904cb-e8b8-4a25-8518-66d0392d8005"
      },
      "outputs": [
        {
          "data": {
            "text/plain": [
              "<AxesSubplot:>"
            ]
          },
          "execution_count": 10,
          "metadata": {},
          "output_type": "execute_result"
        },
        {
          "data": {
            "image/png": "[encoded data removed]",
            "text/plain": [
              "<Figure size 640x480 with 1 Axes>"
            ]
          },
          "metadata": {},
          "output_type": "display_data"
        }
      ],
      "source": [
        "count_class_M, count_class_B =df.diagnosis_result.value_counts()\n",
        "df_class_M = df[df['diagnosis_result'] == 'M']\n",
        "df_class_B = df[df['diagnosis_result'] == 'B']\n",
        "df_class_B_over = df_class_B.sample(count_class_M, replace=True)\n",
        "df_over =pd.concat([df_class_M, df_class_B_over], axis=0)\n",
        "c = ['black', 'pink']\n",
        "df_over.diagnosis_result.value_counts().plot(kind=\"bar\", color=c)\n"
      ]
    },
    {
      "cell_type": "code",
      "execution_count": null,
      "id": "78848d97",
      "metadata": {
        "id": "78848d97"
      },
      "outputs": [],
      "source": [
        "x_over = df_over.drop('diagnosis_result', axis=1)\n",
        "y_over = df_over['diagnosis_result']"
      ]
    },
    {
      "cell_type": "code",
      "execution_count": null,
      "id": "e5b5305b",
      "metadata": {
        "id": "e5b5305b"
      },
      "outputs": [],
      "source": [
        "xover_train, xover_test, yover_train, yover_test = train_test_split(x_over, y_over, test_size=0.2)"
      ]
    },
    {
      "cell_type": "markdown",
      "id": "23863b8b",
      "metadata": {
        "id": "23863b8b"
      },
      "source": [
        "Valores de precisión y cobertura, teniendo **k** un valor de: **20**"
      ]
    },
    {
      "cell_type": "code",
      "execution_count": null,
      "id": "47ca9cb6",
      "metadata": {
        "id": "47ca9cb6",
        "outputId": "7159f12c-aabc-45ed-bdfa-d0ed62ec0142"
      },
      "outputs": [
        {
          "name": "stdout",
          "output_type": "stream",
          "text": [
            "Precision knn 0.8\n",
            "Recall knn 0.8\n"
          ]
        }
      ],
      "source": [
        "knn= KNeighborsClassifier(n_neighbors=20)\n",
        "knn.fit(xover_train, yover_train)\n",
        "predicted = knn.predict(xover_test)\n",
        "print(\"Precision knn\", precision_score(yover_test, predicted, average = 'micro'))\n",
        "print(\"Recall knn\", recall_score(yover_test, predicted, average = 'micro'))"
      ]
    },
    {
      "cell_type": "markdown",
      "id": "df4de673",
      "metadata": {
        "id": "df4de673"
      },
      "source": [
        "Valores de precisión y cobertura, teniendo **k** un valor de: **10**"
      ]
    },
    {
      "cell_type": "code",
      "execution_count": null,
      "id": "785a5016",
      "metadata": {
        "id": "785a5016",
        "outputId": "96ae04d3-e30e-4519-de5b-8d6cfede32b7"
      },
      "outputs": [
        {
          "name": "stdout",
          "output_type": "stream",
          "text": [
            "Precision knn 0.88\n",
            "Recall knn 0.88\n"
          ]
        }
      ],
      "source": [
        "knn= KNeighborsClassifier(n_neighbors=10)\n",
        "knn.fit(xover_train, yover_train)\n",
        "predicted = knn.predict(xover_test)\n",
        "print(\"Precision knn\", precision_score(yover_test, predicted, average = 'micro'))\n",
        "print(\"Recall knn\", recall_score(yover_test, predicted, average = 'micro'))"
      ]
    },
    {
      "cell_type": "markdown",
      "id": "5de34eee",
      "metadata": {
        "id": "5de34eee"
      },
      "source": [
        "Valores de precisión y cobertura, teniendo **k** un valor de: **5**"
      ]
    },
    {
      "cell_type": "code",
      "execution_count": null,
      "id": "4ae73042",
      "metadata": {
        "id": "4ae73042",
        "outputId": "312a9a84-789e-4924-c840-606e0fa82fb4"
      },
      "outputs": [
        {
          "name": "stdout",
          "output_type": "stream",
          "text": [
            "Precision knn 0.84\n",
            "Recall knn 0.84\n"
          ]
        }
      ],
      "source": [
        "knn= KNeighborsClassifier(n_neighbors=5)\n",
        "knn.fit(xover_train, yover_train)\n",
        "predicted = knn.predict(xover_test)\n",
        "print(\"Precision knn\", precision_score(yover_test, predicted, average = 'micro'))\n",
        "print(\"Recall knn\", recall_score(yover_test, predicted, average = 'micro'))"
      ]
    },
    {
      "cell_type": "markdown",
      "id": "19cab120",
      "metadata": {
        "id": "19cab120"
      },
      "source": [
        "Valores de precisión y cobertura, teniendo **k** un valor de: **15**"
      ]
    },
    {
      "cell_type": "code",
      "execution_count": null,
      "id": "0c2b025c",
      "metadata": {
        "id": "0c2b025c",
        "outputId": "daff9f09-1df6-4018-b3bc-18ec7bb03bd3"
      },
      "outputs": [
        {
          "name": "stdout",
          "output_type": "stream",
          "text": [
            "Precision knn 0.8\n",
            "Recall knn 0.8\n"
          ]
        }
      ],
      "source": [
        "knn= KNeighborsClassifier(n_neighbors=15)\n",
        "knn.fit(xover_train, yover_train)\n",
        "predicted = knn.predict(xover_test)\n",
        "print(\"Precision knn\", precision_score(yover_test, predicted, average = 'micro'))\n",
        "print(\"Recall knn\", recall_score(yover_test, predicted, average = 'micro'))"
      ]
    },
    {
      "cell_type": "markdown",
      "id": "8471d546",
      "metadata": {
        "id": "8471d546"
      },
      "source": [
        "Valores de precisión y cobertura, teniendo **k** un valor de: **40**"
      ]
    },
    {
      "cell_type": "code",
      "execution_count": null,
      "id": "ddbdf614",
      "metadata": {
        "id": "ddbdf614",
        "outputId": "c89a604c-2983-4aca-fc7c-a33f8bc00c46"
      },
      "outputs": [
        {
          "name": "stdout",
          "output_type": "stream",
          "text": [
            "Precision knn 0.8\n",
            "Recall knn 0.8\n"
          ]
        }
      ],
      "source": [
        "knn= KNeighborsClassifier(n_neighbors=40)\n",
        "knn.fit(xover_train, yover_train)\n",
        "predicted = knn.predict(xover_test)\n",
        "print(\"Precision knn\", precision_score(yover_test, predicted, average = 'micro'))\n",
        "print(\"Recall knn\", recall_score(yover_test, predicted, average = 'micro'))"
      ]
    },
    {
      "cell_type": "markdown",
      "id": "bb22da14",
      "metadata": {
        "id": "bb22da14"
      },
      "source": [
        "## SMOTE"
      ]
    },
    {
      "cell_type": "markdown",
      "id": "72f83df0",
      "metadata": {
        "id": "72f83df0"
      },
      "source": [
        "Importación de la libreria imblearn, para hacer uso de SMOTE"
      ]
    },
    {
      "cell_type": "code",
      "execution_count": null,
      "id": "4f7960ad",
      "metadata": {
        "id": "4f7960ad"
      },
      "outputs": [],
      "source": [
        "from imblearn.over_sampling import SMOTE as sm"
      ]
    },
    {
      "cell_type": "code",
      "execution_count": null,
      "id": "27689256",
      "metadata": {
        "id": "27689256"
      },
      "outputs": [],
      "source": [
        "x = df.drop('diagnosis_result', axis=1)\n",
        "y = df['diagnosis_result']"
      ]
    },
    {
      "cell_type": "code",
      "execution_count": null,
      "id": "5bfc3496",
      "metadata": {
        "id": "5bfc3496"
      },
      "outputs": [],
      "source": [
        "smote = sm(sampling_strategy='minority')\n",
        "x_sm, y_sm = smote.fit_resample(x, y)\n"
      ]
    },
    {
      "cell_type": "code",
      "execution_count": null,
      "id": "9a2467ec",
      "metadata": {
        "id": "9a2467ec"
      },
      "outputs": [],
      "source": [
        "df_x_sm = pd.DataFrame(data=x_sm, columns=x.columns)\n",
        "df_y_sm = pd.DataFrame(data=y_sm, columns=['diagnosis_result'])"
      ]
    },
    {
      "cell_type": "code",
      "execution_count": null,
      "id": "40d58b4b",
      "metadata": {
        "id": "40d58b4b"
      },
      "outputs": [],
      "source": [
        "df_balanceado_sm = pd.concat([df_x_sm, df_y_sm], axis=1)"
      ]
    },
    {
      "cell_type": "markdown",
      "id": "b4b8b91e",
      "metadata": {
        "id": "b4b8b91e"
      },
      "source": [
        "Visualización gráfica de nuestras clases balanceadas por medio de **SMOTE**"
      ]
    },
    {
      "cell_type": "code",
      "execution_count": null,
      "id": "febd4a54",
      "metadata": {
        "id": "febd4a54",
        "outputId": "af76db1d-8be4-45c3-e76a-9a61f11f8c58"
      },
      "outputs": [
        {
          "data": {
            "text/plain": [
              "<AxesSubplot:>"
            ]
          },
          "execution_count": 23,
          "metadata": {},
          "output_type": "execute_result"
        },
        {
          "data": {
            "image/png": "[encoded data removed]",
            "text/plain": [
              "<Figure size 640x480 with 1 Axes>"
            ]
          },
          "metadata": {},
          "output_type": "display_data"
        }
      ],
      "source": [
        "c = ['blue', 'green']\n",
        "df_balanceado_sm.diagnosis_result.value_counts().plot(kind=\"bar\", color=c)"
      ]
    },
    {
      "cell_type": "code",
      "execution_count": null,
      "id": "b67b8e79",
      "metadata": {
        "id": "b67b8e79"
      },
      "outputs": [],
      "source": [
        "x_balance = df_balanceado_sm.drop('diagnosis_result', axis=1)\n",
        "y_balance = df_balanceado_sm['diagnosis_result']"
      ]
    },
    {
      "cell_type": "code",
      "execution_count": null,
      "id": "36b507c8",
      "metadata": {
        "id": "36b507c8"
      },
      "outputs": [],
      "source": [
        "xbalance_train, xbalance_test, ybalance_train, ybalance_test = train_test_split(x_balance, y_balance, test_size=.2)"
      ]
    },
    {
      "cell_type": "markdown",
      "id": "a805d812",
      "metadata": {
        "id": "a805d812"
      },
      "source": [
        "Valores de precisión y cobertura, teniendo **k** un valor de: **20**"
      ]
    },
    {
      "cell_type": "code",
      "execution_count": null,
      "id": "328bbb0b",
      "metadata": {
        "id": "328bbb0b",
        "outputId": "c9653c13-07ca-4a96-c363-091e6921b029"
      },
      "outputs": [
        {
          "name": "stdout",
          "output_type": "stream",
          "text": [
            "Precision knn 0.88\n",
            "Recall knn 0.88\n"
          ]
        }
      ],
      "source": [
        "knn= KNeighborsClassifier(n_neighbors=20)\n",
        "knn.fit(xbalance_train, ybalance_train)\n",
        "predicted = knn.predict(xbalance_test)\n",
        "print(\"Precision knn\", precision_score(ybalance_test, predicted, average = 'micro'))\n",
        "print(\"Recall knn\", recall_score(ybalance_test, predicted, average = 'micro'))"
      ]
    },
    {
      "cell_type": "markdown",
      "id": "793555ca",
      "metadata": {
        "id": "793555ca"
      },
      "source": [
        "Valores de precisión y cobertura, teniendo **k** un valor de: **10**"
      ]
    },
    {
      "cell_type": "code",
      "execution_count": null,
      "id": "72a7fc6a",
      "metadata": {
        "id": "72a7fc6a",
        "outputId": "682c7fd3-c105-436d-ba90-ff177d23ccb8"
      },
      "outputs": [
        {
          "name": "stdout",
          "output_type": "stream",
          "text": [
            "Precision knn 0.84\n",
            "Recall knn 0.84\n"
          ]
        }
      ],
      "source": [
        "knn= KNeighborsClassifier(n_neighbors=10)\n",
        "knn.fit(xbalance_train, ybalance_train)\n",
        "predicted = knn.predict(xbalance_test)\n",
        "print(\"Precision knn\", precision_score(ybalance_test, predicted, average = 'micro'))\n",
        "print(\"Recall knn\", recall_score(ybalance_test, predicted, average = 'micro'))"
      ]
    },
    {
      "cell_type": "markdown",
      "id": "ef479adb",
      "metadata": {
        "id": "ef479adb"
      },
      "source": [
        "Valores de precisión y cobertura, teniendo **k** un valor de: **5**"
      ]
    },
    {
      "cell_type": "code",
      "execution_count": null,
      "id": "e9c38a7b",
      "metadata": {
        "id": "e9c38a7b",
        "outputId": "27330403-d7c7-47c6-a616-67595fea7a09"
      },
      "outputs": [
        {
          "name": "stdout",
          "output_type": "stream",
          "text": [
            "Precision knn 0.8\n",
            "Recall knn 0.8\n"
          ]
        }
      ],
      "source": [
        "knn= KNeighborsClassifier(n_neighbors=5)\n",
        "knn.fit(xbalance_train, ybalance_train)\n",
        "predicted = knn.predict(xbalance_test)\n",
        "print(\"Precision knn\", precision_score(ybalance_test, predicted, average = 'micro'))\n",
        "print(\"Recall knn\", recall_score(ybalance_test, predicted, average = 'micro'))"
      ]
    },
    {
      "cell_type": "markdown",
      "id": "2dd2f74f",
      "metadata": {
        "id": "2dd2f74f"
      },
      "source": [
        "Valores de precisión y cobertura, teniendo **k** un valor de: **15**"
      ]
    },
    {
      "cell_type": "code",
      "execution_count": null,
      "id": "ba4f7929",
      "metadata": {
        "id": "ba4f7929",
        "outputId": "9bfe5dbe-16f8-4ba5-c549-ddd8d2bb820a"
      },
      "outputs": [
        {
          "name": "stdout",
          "output_type": "stream",
          "text": [
            "Precision knn 0.92\n",
            "Recall knn 0.92\n"
          ]
        }
      ],
      "source": [
        "knn= KNeighborsClassifier(n_neighbors=15)\n",
        "knn.fit(xbalance_train, ybalance_train)\n",
        "predicted = knn.predict(xbalance_test)\n",
        "print(\"Precision knn\", precision_score(ybalance_test, predicted, average = 'micro'))\n",
        "print(\"Recall knn\", recall_score(ybalance_test, predicted, average = 'micro'))"
      ]
    },
    {
      "cell_type": "markdown",
      "id": "17b06819",
      "metadata": {
        "id": "17b06819"
      },
      "source": [
        "Valores de precisión y cobertura, teniendo **k** un valor de: **40**"
      ]
    },
    {
      "cell_type": "code",
      "execution_count": null,
      "id": "32dfa466",
      "metadata": {
        "id": "32dfa466",
        "outputId": "b8821738-ac16-462e-e74d-33c7b6ef56d2"
      },
      "outputs": [
        {
          "name": "stdout",
          "output_type": "stream",
          "text": [
            "Precision knn 0.88\n",
            "Recall knn 0.88\n"
          ]
        }
      ],
      "source": [
        "knn= KNeighborsClassifier(n_neighbors=40)\n",
        "knn.fit(xbalance_train, ybalance_train)\n",
        "predicted = knn.predict(xbalance_test)\n",
        "print(\"Precision knn\", precision_score(ybalance_test, predicted, average = 'micro'))\n",
        "print(\"Recall knn\", recall_score(ybalance_test, predicted, average = 'micro'))"
      ]
    }
  ],
  "metadata": {
    "kernelspec": {
      "display_name": "Python 3 (ipykernel)",
      "language": "python",
      "name": "python3"
    },
    "language_info": {
      "codemirror_mode": {
        "name": "ipython",
        "version": 3
      },
      "file_extension": ".py",
      "mimetype": "text/x-python",
      "name": "python",
      "nbconvert_exporter": "python",
      "pygments_lexer": "ipython3",
      "version": "3.8.10"
    },
    "colab": {
      "provenance": [],
      "include_colab_link": true
    }
  },
  "nbformat": 4,
  "nbformat_minor": 5
}